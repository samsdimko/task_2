{
 "cells": [
  {
   "cell_type": "markdown",
   "id": "d3df79dd",
   "metadata": {},
   "source": [
    "## Упражнения по библиотеке Numpy"
   ]
  },
  {
   "cell_type": "code",
   "execution_count": 1,
   "id": "76b9c43b",
   "metadata": {},
   "outputs": [],
   "source": [
    "#import sys\n",
    "#!{sys.executable} -m pip install numpy\n",
    "#!{sys.executable} -m pip install scipy\n",
    "import numpy as np"
   ]
  },
  {
   "cell_type": "markdown",
   "id": "03727b7c",
   "metadata": {},
   "source": [
    "**1.** Дан случайный массив, поменять знак у элементов, значения которых между 3 и 8"
   ]
  },
  {
   "cell_type": "code",
   "execution_count": 2,
   "id": "b89a7523",
   "metadata": {},
   "outputs": [
    {
     "name": "stdout",
     "output_type": "stream",
     "text": [
      "[[0.18884344 3.43939298 1.23790597 9.91824278 8.70074346]\n",
      " [4.92690307 8.23072819 0.5406368  1.98543752 1.57496423]\n",
      " [5.6013886  3.16922545 3.72974314 9.93871706 8.16553857]\n",
      " [5.78388921 6.44414261 1.77843229 3.8104318  4.03016997]\n",
      " [1.772044   6.41533123 5.98857095 3.32866666 0.41126348]]\n",
      "[[ 0.18884344 -3.43939298  1.23790597  9.91824278  8.70074346]\n",
      " [-4.92690307  8.23072819  0.5406368   1.98543752  1.57496423]\n",
      " [-5.6013886  -3.16922545 -3.72974314  9.93871706  8.16553857]\n",
      " [-5.78388921 -6.44414261  1.77843229 -3.8104318  -4.03016997]\n",
      " [ 1.772044   -6.41533123 -5.98857095 -3.32866666  0.41126348]]\n"
     ]
    }
   ],
   "source": [
    "array = np.random.rand(5, 5)*10\n",
    "print(array)\n",
    "array[(array > 3) & (array < 8)] *= -1\n",
    "print(array)"
   ]
  },
  {
   "cell_type": "markdown",
   "id": "5fa4abda",
   "metadata": {},
   "source": [
    "**2.** Заменить максимальный элемент случайного массива на 0"
   ]
  },
  {
   "cell_type": "code",
   "execution_count": 3,
   "id": "f2788a6e",
   "metadata": {},
   "outputs": [
    {
     "name": "stdout",
     "output_type": "stream",
     "text": [
      "[[0.82362825 0.8437977  0.34862326 0.05312586 0.50810732]\n",
      " [0.78385566 0.98986795 0.09359173 0.51286641 0.1747551 ]\n",
      " [0.17737408 0.72174288 0.05844286 0.60655413 0.20648804]\n",
      " [0.6439102  0.07308178 0.22064113 0.36209863 0.94299017]\n",
      " [0.8042327  0.50743487 0.68106126 0.15935329 0.22214293]]\n",
      "[[0.82362825 0.8437977  0.34862326 0.05312586 0.50810732]\n",
      " [0.78385566 0.         0.09359173 0.51286641 0.1747551 ]\n",
      " [0.17737408 0.72174288 0.05844286 0.60655413 0.20648804]\n",
      " [0.6439102  0.07308178 0.22064113 0.36209863 0.94299017]\n",
      " [0.8042327  0.50743487 0.68106126 0.15935329 0.22214293]]\n"
     ]
    }
   ],
   "source": [
    "array = np.random.rand(5, 5)\n",
    "print(array)\n",
    "array[array == np.max(array)] = 0\n",
    "print(array)"
   ]
  },
  {
   "cell_type": "markdown",
   "id": "3cac656b",
   "metadata": {},
   "source": [
    "**3.** Построить прямое произведение массивов (все комбинации с каждым элементом). На вход подается двумерный массив"
   ]
  },
  {
   "cell_type": "code",
   "execution_count": 4,
   "id": "3396b764",
   "metadata": {},
   "outputs": [
    {
     "name": "stdout",
     "output_type": "stream",
     "text": [
      "[[0.71073945 0.04137333 0.21800102 0.63478284 0.70258845]\n",
      " [0.67563709 0.17909338 0.83790485 0.08919841 0.23955259]]\n",
      "\n",
      "[[0.71073945 0.67563709]\n",
      " [0.71073945 0.17909338]\n",
      " [0.71073945 0.83790485]\n",
      " [0.71073945 0.08919841]\n",
      " [0.71073945 0.23955259]\n",
      " [0.04137333 0.67563709]\n",
      " [0.04137333 0.17909338]\n",
      " [0.04137333 0.83790485]\n",
      " [0.04137333 0.08919841]\n",
      " [0.04137333 0.23955259]\n",
      " [0.21800102 0.67563709]\n",
      " [0.21800102 0.17909338]\n",
      " [0.21800102 0.83790485]\n",
      " [0.21800102 0.08919841]\n",
      " [0.21800102 0.23955259]\n",
      " [0.63478284 0.67563709]\n",
      " [0.63478284 0.17909338]\n",
      " [0.63478284 0.83790485]\n",
      " [0.63478284 0.08919841]\n",
      " [0.63478284 0.23955259]\n",
      " [0.70258845 0.67563709]\n",
      " [0.70258845 0.17909338]\n",
      " [0.70258845 0.83790485]\n",
      " [0.70258845 0.08919841]\n",
      " [0.70258845 0.23955259]]\n"
     ]
    }
   ],
   "source": [
    "def Cartesian(array):\n",
    "    arr1 = array[0]\n",
    "    arr2 = array[1]\n",
    "    cartesian_array = np.array([(i, j) for i in arr1 for j in arr2])\n",
    "\n",
    "    return cartesian_array\n",
    "        \n",
    "\n",
    "array = np.random.rand(2, 5)\n",
    "print(array)\n",
    "print()\n",
    "cartesian_array = Cartesian(array)\n",
    "print(cartesian_array)"
   ]
  },
  {
   "cell_type": "markdown",
   "id": "674c9354",
   "metadata": {},
   "source": [
    "**4.** Даны 2 массива A (8x3) и B (2x2). Найти строки в A, которые содержат элементы из каждой строки в B, независимо от порядка элементов в B"
   ]
  },
  {
   "cell_type": "code",
   "execution_count": 24,
   "id": "cb664782",
   "metadata": {},
   "outputs": [
    {
     "name": "stdout",
     "output_type": "stream",
     "text": [
      "[[2 3 1]\n",
      " [4 0 2]\n",
      " [1 2 4]\n",
      " [2 3 1]\n",
      " [2 3 4]\n",
      " [0 0 2]\n",
      " [1 0 0]\n",
      " [1 1 3]]\n",
      "[[0 2]\n",
      " [1 2]]\n",
      "[[2 3 1]\n",
      " [4 0 2]\n",
      " [1 2 4]\n",
      " [2 3 1]\n",
      " [2 3 4]\n",
      " [0 0 2]]\n"
     ]
    }
   ],
   "source": [
    "A = np.random.randint(0, 5, (8, 3))\n",
    "B = np.random.randint(0, 5, (2, 2))\n",
    "\n",
    "print(A)\n",
    "print(B)\n",
    "row_indexes = np.any(np.isin(A, B[0]) & np.isin(A, B[1]), axis=1)\n",
    "print(A[row_indexes])"
   ]
  },
  {
   "cell_type": "markdown",
   "id": "fa46533b",
   "metadata": {},
   "source": [
    "**5.** Дана 10x3 матрица, найти строки из неравных значений (например строка [2,2,3] остается, строка [3,3,3] удаляется)"
   ]
  },
  {
   "cell_type": "code",
   "execution_count": 6,
   "id": "fa545b23",
   "metadata": {},
   "outputs": [
    {
     "name": "stdout",
     "output_type": "stream",
     "text": [
      "[[3 0 0]\n",
      " [2 2 4]\n",
      " [4 3 0]\n",
      " [4 0 3]\n",
      " [3 2 0]\n",
      " [2 3 1]\n",
      " [4 3 3]\n",
      " [3 3 0]\n",
      " [3 2 0]\n",
      " [4 4 3]]\n"
     ]
    }
   ],
   "source": [
    "A = np.random.randint(0, 5, (10, 3))\n",
    "\n",
    "non_equal_indexes = list(map(lambda x: True if len(np.unique(x)) > 1 else False, A))\n",
    "print(A[non_equal_indexes])"
   ]
  },
  {
   "cell_type": "markdown",
   "id": "28f0d116",
   "metadata": {},
   "source": [
    "**6.** Дан двумерный массив. Удалить те строки, которые повторяются"
   ]
  },
  {
   "cell_type": "code",
   "execution_count": 7,
   "id": "83d2c0b7",
   "metadata": {},
   "outputs": [
    {
     "name": "stdout",
     "output_type": "stream",
     "text": [
      "[[0 0]\n",
      " [1 1]\n",
      " [0 1]\n",
      " [1 0]\n",
      " [0 1]\n",
      " [1 0]\n",
      " [0 1]\n",
      " [1 1]\n",
      " [1 1]\n",
      " [0 0]]\n",
      "[[0 0]\n",
      " [0 1]\n",
      " [1 0]\n",
      " [1 1]]\n"
     ]
    }
   ],
   "source": [
    "A = np.random.randint(0, 2, (10, 2))\n",
    "\n",
    "B = np.unique(A, axis=0)\n",
    "\n",
    "print(A)\n",
    "print(B)"
   ]
  },
  {
   "cell_type": "markdown",
   "id": "6daa9e37",
   "metadata": {},
   "source": [
    "______\n",
    "______"
   ]
  },
  {
   "cell_type": "markdown",
   "id": "cfbfcaff",
   "metadata": {},
   "source": [
    "Для каждой из следующих задач (1-5) нужно привести 2 реализации – одна без использования numpy (cчитайте, что там, где на входе или выходе должны быть numpy array, будут просто списки), а вторая полностью векторизованная с использованием numpy (без использования питоновских циклов/map/list comprehension).\n",
    "\n",
    "\n",
    "__Замечание 1.__ Можно считать, что все указанные объекты непустые (к примеру, в __задаче 1__ на диагонали матрицы есть ненулевые элементы).\n",
    "\n",
    "__Замечание 2.__ Для большинства задач решение занимает не больше 1-2 строк."
   ]
  },
  {
   "cell_type": "markdown",
   "id": "673cac7f",
   "metadata": {},
   "source": [
    "___"
   ]
  },
  {
   "cell_type": "markdown",
   "id": "ca6f585e",
   "metadata": {},
   "source": [
    "* __Задача 1__: Подсчитать произведение ненулевых элементов на диагонали прямоугольной матрицы.  \n",
    " Например, для X = np.array([[1, 0, 1], [2, 0, 2], [3, 0, 3], [4, 4, 4]]) ответ 3."
   ]
  },
  {
   "cell_type": "code",
   "execution_count": 8,
   "id": "065862fc",
   "metadata": {},
   "outputs": [
    {
     "name": "stdout",
     "output_type": "stream",
     "text": [
      "[[0 2 2 1]\n",
      " [1 3 3 4]\n",
      " [0 4 4 2]\n",
      " [0 4 2 0]\n",
      " [1 0 3 3]]\n",
      "12\n",
      "12\n"
     ]
    }
   ],
   "source": [
    "X = np.random.randint(0, 5, (5, 4))\n",
    "print(X)\n",
    "# 1 solution\n",
    "result = 1\n",
    "for i in range(min(X.shape)):\n",
    "    if X[i][i] != 0:\n",
    "        result *= X[i][i]\n",
    "\n",
    "print(result)\n",
    "        \n",
    "# 2 solution\n",
    "result = np.prod(X.diagonal()[X.diagonal() != 0])\n",
    "print(result)"
   ]
  },
  {
   "cell_type": "markdown",
   "id": "9fc51d41",
   "metadata": {},
   "source": [
    "* __Задача 2__: Даны два вектора x и y. Проверить, задают ли они одно и то же мультимножество.  \n",
    "  Например, для x = np.array([1, 2, 2, 4]), y = np.array([4, 2, 1, 2]) ответ True."
   ]
  },
  {
   "cell_type": "code",
   "execution_count": 9,
   "id": "a809e02f",
   "metadata": {},
   "outputs": [
    {
     "name": "stdout",
     "output_type": "stream",
     "text": [
      "[0 3 3 4]\n",
      "[4 1 2 4]\n",
      "False\n",
      "False\n"
     ]
    }
   ],
   "source": [
    "X = np.random.randint(0, 5, (4))\n",
    "Y = np.random.randint(0, 5, (4))\n",
    "print(X)\n",
    "print(Y)\n",
    "\n",
    "# 1 solution\n",
    "result = True\n",
    "x = sorted(X.tolist())\n",
    "y = sorted(Y.tolist())\n",
    "print(x == y)\n",
    "\n",
    "# 2 solution\n",
    "print(np.all(np.sort(X) == np.sort(Y)))"
   ]
  },
  {
   "cell_type": "markdown",
   "id": "b9c185c7",
   "metadata": {},
   "source": [
    "* __Задача 3__: Найти максимальный элемент в векторе x среди элементов, перед которыми стоит ноль. \n",
    " Например, для x = np.array([6, 2, 0, 3, 0, 0, 5, 7, 0]) ответ 5."
   ]
  },
  {
   "cell_type": "code",
   "execution_count": 25,
   "id": "b57df008",
   "metadata": {},
   "outputs": [
    {
     "name": "stdout",
     "output_type": "stream",
     "text": [
      "[4 0 0 4 3 2 0 3 3 0]\n",
      "4\n",
      "4\n"
     ]
    }
   ],
   "source": [
    "X = np.random.randint(0, 5, (10))\n",
    "print(X)\n",
    "\n",
    "# 1 solution\n",
    "max_value = 0\n",
    "max_index = -1\n",
    "for i in range(1, len(X)):\n",
    "    if X[i] > max_value and X[i-1] == 0:\n",
    "        max_value = X[i]\n",
    "        max_index = i\n",
    "\n",
    "print(max_value if max_index > -1 else None)\n",
    "\n",
    "# 2 solution\n",
    "def find_max_after_zero(arr):\n",
    "    non_last_zero_indexes = np.array(np.where(X[:-1] == 0))\n",
    "    if non_last_zero_indexes.size == 0:\n",
    "        return None\n",
    "    indexes_after_zero = non_last_zero_indexes + 1\n",
    "    max_value = np.max(X[indexes_after_zero])\n",
    "    return max_value\n",
    "\n",
    "print(find_max_after_zero(X))"
   ]
  },
  {
   "cell_type": "markdown",
   "id": "480be4ce",
   "metadata": {},
   "source": [
    "* __Задача 4__: Реализовать кодирование длин серий (Run-length encoding). Для некоторого вектора x необходимо вернуть кортеж из двух векторов одинаковой длины. Первый содержит числа, а второй - сколько раз их нужно повторить.  \n",
    " Например, для x = np.array([2, 2, 2, 3, 3, 3, 5]) ответ (np.array([2, 3, 5]), np.array([3, 3, 1]))."
   ]
  },
  {
   "cell_type": "code",
   "execution_count": 11,
   "id": "3c592124",
   "metadata": {},
   "outputs": [
    {
     "name": "stdout",
     "output_type": "stream",
     "text": [
      "[0 1 0 0 0 0]\n",
      "values = [0, 1, 0]\n",
      "lengths = [1, 1, 4]\n",
      "values = [0 1 0]\n",
      "lengths = [1 1 4]\n"
     ]
    }
   ],
   "source": [
    "X = np.random.randint(0, 5, (6))\n",
    "print(X)\n",
    "\n",
    "#1 solution\n",
    "values = [X[0]]\n",
    "lengths = [1]\n",
    "for value in X[1:]:\n",
    "    if value == values[-1]:\n",
    "        lengths[-1] += 1\n",
    "    else:\n",
    "        values.append(value)\n",
    "        lengths.append(1)\n",
    "\n",
    "print(f'values = {values}')\n",
    "print(f'lengths = {lengths}')\n",
    "\n",
    "#2 solution\n",
    "def encode_run_length(arr):\n",
    "    diffs = np.diff(arr)\n",
    "    unique_indexes = np.where(diffs != 0)[0] + 1\n",
    "    unique_indexes = np.insert(unique_indexes, 0, 0)\n",
    "    \n",
    "    lengths = np.diff(unique_indexes)\n",
    "    lengths = np.append(lengths, arr.size - unique_indexes[-1])\n",
    "    return arr[unique_indexes], lengths\n",
    "\n",
    "values, lengths = encode_run_length(X)\n",
    "print(f'values = {values}')\n",
    "print(f'lengths = {lengths}')"
   ]
  },
  {
   "cell_type": "markdown",
   "id": "077532ec",
   "metadata": {},
   "source": [
    "* __Задача 5__: Даны две выборки объектов - X и Y. Вычислить матрицу евклидовых расстояний между объектами. Сравните с функцией scipy.spatial.distance.cdist по скорости работы."
   ]
  },
  {
   "cell_type": "code",
   "execution_count": 26,
   "id": "1e807797",
   "metadata": {},
   "outputs": [
    {
     "name": "stdout",
     "output_type": "stream",
     "text": [
      "[[10.86278049 11.40175425 12.4498996  ... 12.72792206 10.34408043\n",
      "  12.36931688]\n",
      " [11.53256259 10.34408043 10.19803903 ... 10.90871211 10.86278049\n",
      "   9.69535971]\n",
      " [10.86278049 11.66190379 10.24695077 ... 11.13552873 10.63014581\n",
      "  12.52996409]\n",
      " ...\n",
      " [10.39230485 10.09950494  9.43398113 ... 10.19803903 12.52996409\n",
      "   9.74679434]\n",
      " [10.63014581 10.72380529 12.08304597 ... 10.24695077 12.489996\n",
      "   9.16515139]\n",
      " [ 9.53939201  8.18535277  8.83176087 ... 10.24695077  9.59166305\n",
      "   9.69535971]]\n",
      "\n",
      "[[10.86278049 11.40175425 12.4498996  ... 12.72792206 10.34408043\n",
      "  12.36931688]\n",
      " [11.53256259 10.34408043 10.19803903 ... 10.90871211 10.86278049\n",
      "   9.69535971]\n",
      " [10.86278049 11.66190379 10.24695077 ... 11.13552873 10.63014581\n",
      "  12.52996409]\n",
      " ...\n",
      " [10.39230485 10.09950494  9.43398113 ... 10.19803903 12.52996409\n",
      "   9.74679434]\n",
      " [10.63014581 10.72380529 12.08304597 ... 10.24695077 12.489996\n",
      "   9.16515139]\n",
      " [ 9.53939201  8.18535277  8.83176087 ... 10.24695077  9.59166305\n",
      "   9.69535971]]\n",
      "\n",
      "[[10.86278049 11.40175425 12.4498996  ... 12.72792206 10.34408043\n",
      "  12.36931688]\n",
      " [11.53256259 10.34408043 10.19803903 ... 10.90871211 10.86278049\n",
      "   9.69535971]\n",
      " [10.86278049 11.66190379 10.24695077 ... 11.13552873 10.63014581\n",
      "  12.52996409]\n",
      " ...\n",
      " [10.39230485 10.09950494  9.43398113 ... 10.19803903 12.52996409\n",
      "   9.74679434]\n",
      " [10.63014581 10.72380529 12.08304597 ... 10.24695077 12.489996\n",
      "   9.16515139]\n",
      " [ 9.53939201  8.18535277  8.83176087 ... 10.24695077  9.59166305\n",
      "   9.69535971]]\n",
      "First method time = 5.3377525806427\n",
      "Second method time = 0.03889584541320801\n",
      "Third method time = 0.003989219665527344\n"
     ]
    }
   ],
   "source": [
    "import time\n",
    "import scipy\n",
    "X = np.random.randint(0, 5, (600, 30))\n",
    "Y = np.random.randint(0, 5, (600, 30))\n",
    "\n",
    "#1 solution\n",
    "time1 = time.time()\n",
    "\n",
    "euclidean_distances = []\n",
    "def calculate_single_distance(first_sample, second_sample):\n",
    "    distance = list([x - y for x, y in zip(first_sample, second_sample)])\n",
    "    squared_distances = list([x**2 for x in distance])\n",
    "    euclidean_distance = sum(squared_distances)**0.5\n",
    "    return euclidean_distance\n",
    "\n",
    "for i in range(X.shape[0]):\n",
    "    euclidean_distances.append(list())\n",
    "    for j in range(Y.shape[0]):\n",
    "        euclidean_distances[i].append(calculate_single_distance(X[i], Y[j]))\n",
    "    \n",
    "print(np.array(euclidean_distances))\n",
    "print()\n",
    "time2 = time.time()\n",
    "\n",
    "\n",
    "#2 solution\n",
    "distance_matrix = np.sum((X[:, None] - Y)**2, axis=2)\n",
    "euclidean_distances = np.sqrt(distance_matrix)\n",
    "print(euclidean_distances)\n",
    "print()\n",
    "time3 = time.time()\n",
    "\n",
    "#3 solution\n",
    "euclidean_distances = scipy.spatial.distance.cdist(X, Y, 'euclidean')\n",
    "print(euclidean_distances)\n",
    "\n",
    "time4 = time.time()\n",
    "print(f'First method time = {time2-time1}')\n",
    "print(f'Second method time = {time3-time2}')\n",
    "print(f'Third method time = {time4-time3}')"
   ]
  },
  {
   "cell_type": "markdown",
   "id": "973e8064",
   "metadata": {},
   "source": [
    "_______\n",
    "________"
   ]
  },
  {
   "cell_type": "markdown",
   "id": "1104acb7",
   "metadata": {},
   "source": [
    "* #### __Задача 6__: CrunchieMunchies __*__\n",
    "\n",
    "Вы работаете в отделе маркетинга пищевой компании MyCrunch, которая разрабатывает новый вид вкусных, полезных злаков под названием **CrunchieMunchies**.\n",
    "\n",
    "Вы хотите продемонстрировать потребителям, насколько полезны ваши хлопья по сравнению с другими ведущими брендами, поэтому вы собрали данные о питании нескольких разных конкурентов.\n",
    "\n",
    "Ваша задача - использовать вычисления Numpy для анализа этих данных и доказать, что ваши **СrunchieMunchies** - самый здоровый выбор для потребителей.\n"
   ]
  },
  {
   "cell_type": "code",
   "execution_count": 1,
   "id": "10a77f8d",
   "metadata": {},
   "outputs": [],
   "source": [
    "import numpy as np"
   ]
  },
  {
   "cell_type": "markdown",
   "id": "ab87cb03",
   "metadata": {},
   "source": [
    "1. Просмотрите файл cereal.csv. Этот файл содержит количества калорий для различных марок хлопьев. Загрузите данные из файла и сохраните их как calorie_stats."
   ]
  },
  {
   "cell_type": "code",
   "execution_count": 2,
   "id": "9681ebf2",
   "metadata": {},
   "outputs": [
    {
     "data": {
      "text/plain": [
       "array([ 70., 120.,  70.,  50., 110., 110., 110., 130.,  90.,  90., 120.,\n",
       "       110., 120., 110., 110., 110., 100., 110., 110., 110., 100., 110.,\n",
       "       100., 100., 110., 110., 100., 120., 120., 110., 100., 110., 100.,\n",
       "       110., 120., 120., 110., 110., 110., 140., 110., 100., 110., 100.,\n",
       "       150., 150., 160., 100., 120., 140.,  90., 130., 120., 100.,  50.,\n",
       "        50., 100., 100., 120., 100.,  90., 110., 110.,  80.,  90.,  90.,\n",
       "       110., 110.,  90., 110., 140., 100., 110., 110., 100., 100., 110.])"
      ]
     },
     "execution_count": 2,
     "metadata": {},
     "output_type": "execute_result"
    }
   ],
   "source": [
    "calorie_stats = np.loadtxt(\"./data/cereal.csv\", delimiter=\",\")\n",
    "calorie_stats"
   ]
  },
  {
   "cell_type": "markdown",
   "id": "139cfbd8",
   "metadata": {},
   "source": [
    "2. В одной порции CrunchieMunchies содержится 60 калорий. Насколько выше среднее количество калорий у ваших конкурентов?\n",
    "\n",
    "Сохраните ответ в переменной average_calories и распечатайте переменную в терминале"
   ]
  },
  {
   "cell_type": "code",
   "execution_count": 3,
   "id": "7036d240",
   "metadata": {},
   "outputs": [
    {
     "name": "stdout",
     "output_type": "stream",
     "text": [
      "106.88311688311688\n"
     ]
    }
   ],
   "source": [
    "average_calories = np.average(calorie_stats)\n",
    "print(average_calories)"
   ]
  },
  {
   "cell_type": "markdown",
   "id": "b2ddb4cd",
   "metadata": {},
   "source": [
    "3. Корректно ли среднее количество калорий отражает распределение набора данных? Давайте отсортируем данные и посмотрим.\n",
    "\n",
    "Отсортируйте данные и сохраните результат в переменной calorie_stats_sorted. Распечатайте отсортированную информацию"
   ]
  },
  {
   "cell_type": "code",
   "execution_count": 4,
   "id": "46eeb4ed",
   "metadata": {},
   "outputs": [
    {
     "name": "stdout",
     "output_type": "stream",
     "text": [
      "[ 50.  50.  50.  70.  70.  80.  90.  90.  90.  90.  90.  90.  90. 100.\n",
      " 100. 100. 100. 100. 100. 100. 100. 100. 100. 100. 100. 100. 100. 100.\n",
      " 100. 100. 110. 110. 110. 110. 110. 110. 110. 110. 110. 110. 110. 110.\n",
      " 110. 110. 110. 110. 110. 110. 110. 110. 110. 110. 110. 110. 110. 110.\n",
      " 110. 110. 110. 120. 120. 120. 120. 120. 120. 120. 120. 120. 120. 130.\n",
      " 130. 140. 140. 140. 150. 150. 160.]\n"
     ]
    }
   ],
   "source": [
    "calorie_stats_sorted = np.sort(calorie_stats)\n",
    "print(calorie_stats_sorted)"
   ]
  },
  {
   "cell_type": "markdown",
   "id": "4dc74116",
   "metadata": {},
   "source": [
    "4. Похоже, что большинство значений выше среднего. Давайте посмотрим, является ли медиана наиболее корректным показателем набора данных.\n",
    "\n",
    "Вычислите медиану набора данных и сохраните свой ответ в median_calories. Выведите медиану, чтобы вы могли видеть, как она сравнивается со средним значением."
   ]
  },
  {
   "cell_type": "code",
   "execution_count": 5,
   "id": "b56627c3",
   "metadata": {},
   "outputs": [
    {
     "name": "stdout",
     "output_type": "stream",
     "text": [
      "110.0\n"
     ]
    }
   ],
   "source": [
    "calorie_median = np.median(calorie_stats)\n",
    "print(calorie_median)"
   ]
  },
  {
   "cell_type": "markdown",
   "id": "a63ab72f",
   "metadata": {},
   "source": [
    "5. В то время как медиана показывает, что по крайней мере половина наших значений составляет более 100 калорий, было бы более впечатляюще показать, что значительная часть конкурентов имеет более высокое количество калорий, чем CrunchieMunchies.\n",
    "\n",
    "Рассчитайте различные процентили и распечатайте их, пока не найдете наименьший процентиль, превышающий 60 калорий. Сохраните это значение в переменной nth_percentile."
   ]
  },
  {
   "cell_type": "code",
   "execution_count": 8,
   "id": "fe80ce03",
   "metadata": {},
   "outputs": [
    {
     "name": "stdout",
     "output_type": "stream",
     "text": [
      "55.599999999999994\n",
      "55.6 < 60\n",
      "70.0\n",
      "70 > 60\n"
     ]
    }
   ],
   "source": [
    "nth_percentile = np.percentile(calorie_stats, 3)\n",
    "print(nth_percentile)\n",
    "print('55.6 < 60')\n",
    "nth_percentile = np.percentile(calorie_stats, 4)\n",
    "print(nth_percentile)\n",
    "print('70 > 60')"
   ]
  },
  {
   "cell_type": "markdown",
   "id": "a2a3c5aa",
   "metadata": {},
   "source": [
    "6. Хотя процентиль показывает нам, что у большинства конкурентов количество калорий намного выше, это неудобная концепция для использования в маркетинговых материалах.\n",
    "\n",
    "Вместо этого давайте подсчитаем процент хлопьев, в которых содержится более 60 калорий на порцию. Сохраните свой ответ в переменной more_calories и распечатайте его"
   ]
  },
  {
   "cell_type": "code",
   "execution_count": 19,
   "id": "ade0f6ea",
   "metadata": {},
   "outputs": [
    {
     "name": "stdout",
     "output_type": "stream",
     "text": [
      "96.1038961038961\n"
     ]
    }
   ],
   "source": [
    "more_calories = calorie_stats[calorie_stats > 60].shape[0] / calorie_stats.shape[0] * 100\n",
    "print(more_calories)"
   ]
  },
  {
   "cell_type": "markdown",
   "id": "1735d65b",
   "metadata": {},
   "source": [
    "7. Это действительно высокий процент. Это будет очень полезно, когда мы будем продвигать CrunchieMunchies. Но один вопрос заключается в том, насколько велики различия в наборе данных? Можем ли мы сделать обобщение, что в большинстве злаков содержится около 100 калорий или разброс еще больше?\n",
    "\n",
    "Рассчитайте величину отклонения, найдя стандартное отклонение, Сохраните свой ответ в calorie_std и распечатайте на терминале. Как мы можем включить эту ценность в наш анализ?"
   ]
  },
  {
   "cell_type": "code",
   "execution_count": 20,
   "id": "85c8df1f",
   "metadata": {},
   "outputs": [
    {
     "name": "stdout",
     "output_type": "stream",
     "text": [
      "19.35718533390827\n"
     ]
    }
   ],
   "source": [
    "calorie_std = np.std(calorie_stats)\n",
    "print(calorie_std)\n",
    "# This std means that the majority of values are in range 85-125 calories and it's more then our value. Unfortunately, \n",
    "# std doesn't describe statistics enought to make such decisions. The only what we can say is variation of values is not limited \n",
    "# by 100 calories, but for such decision we need another analyze. "
   ]
  },
  {
   "cell_type": "markdown",
   "id": "037455c5",
   "metadata": {},
   "source": [
    "8. Напишите короткий абзац, в котором кратко изложите свои выводы и то, как, по вашему мнению, эти данные могут быть использованы в интересах Mycrunch при маркетинге CrunchieMunchies."
   ]
  },
  {
   "cell_type": "code",
   "execution_count": 21,
   "id": "c260fee9",
   "metadata": {},
   "outputs": [],
   "source": [
    "# According to our analyze the most of competitors provide grains with more calories then CrunchieMunchies. The value \n",
    "# of CrunchieMunchies grains is lower then 2.41 STD of mean of all competitors or 96% of them. The majority of all \n",
    "# competitors provides more then 85 calories in grains. "
   ]
  }
 ],
 "metadata": {
  "kernelspec": {
   "display_name": "Python 3 (ipykernel)",
   "language": "python",
   "name": "python3"
  },
  "language_info": {
   "codemirror_mode": {
    "name": "ipython",
    "version": 3
   },
   "file_extension": ".py",
   "mimetype": "text/x-python",
   "name": "python",
   "nbconvert_exporter": "python",
   "pygments_lexer": "ipython3",
   "version": "3.10.0"
  }
 },
 "nbformat": 4,
 "nbformat_minor": 5
}
